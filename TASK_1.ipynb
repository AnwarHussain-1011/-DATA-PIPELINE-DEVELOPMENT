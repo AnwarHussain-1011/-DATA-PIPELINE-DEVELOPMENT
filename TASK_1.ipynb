{
  "nbformat": 4,
  "nbformat_minor": 0,
  "metadata": {
    "colab": {
      "provenance": []
    },
    "kernelspec": {
      "name": "python3",
      "display_name": "Python 3"
    },
    "language_info": {
      "name": "python"
    }
  },
  "cells": [
    {
      "cell_type": "code",
      "execution_count": 1,
      "metadata": {
        "colab": {
          "base_uri": "https://localhost:8080/"
        },
        "id": "0xCl9b_PaMkS",
        "outputId": "31bddc7b-242d-47a7-85f5-6c9ccc57724d"
      },
      "outputs": [
        {
          "output_type": "stream",
          "name": "stdout",
          "text": [
            "Original Data Head:\n",
            "   sepal length (cm)  sepal width (cm)  petal length (cm)  petal width (cm)  \\\n",
            "0                5.1               3.5                1.4               0.2   \n",
            "1                4.9               3.0                1.4               0.2   \n",
            "2                4.7               3.2                1.3               0.2   \n",
            "3                4.6               3.1                1.5               0.2   \n",
            "4                5.0               3.6                1.4               0.2   \n",
            "\n",
            "   target species  \n",
            "0       0  setosa  \n",
            "1       0  setosa  \n",
            "2       0  setosa  \n",
            "3       0  setosa  \n",
            "4       0  setosa  \n",
            "\n",
            "Missing values before filling:\n",
            "sepal length (cm)    6\n",
            "sepal width (cm)     0\n",
            "petal length (cm)    0\n",
            "petal width (cm)     0\n",
            "target               0\n",
            "species              0\n",
            "dtype: int64\n",
            "\n",
            "Number of outliers (Z-score > 3):\n",
            "1\n",
            "\n",
            "Cleaned data saved to 'cleaned_iris_data.csv'\n"
          ]
        },
        {
          "output_type": "stream",
          "name": "stderr",
          "text": [
            "/tmp/ipython-input-2096928315.py:23: FutureWarning: A value is trying to be set on a copy of a DataFrame or Series through chained assignment using an inplace method.\n",
            "The behavior will change in pandas 3.0. This inplace method will never work because the intermediate object on which we are setting values always behaves as a copy.\n",
            "\n",
            "For example, when doing 'df[col].method(value, inplace=True)', try using 'df.method({col: value}, inplace=True)' or df[col] = df[col].method(value) instead, to perform the operation inplace on the original object.\n",
            "\n",
            "\n",
            "  data['sepal length (cm)'].fillna(data['sepal length (cm)'].mean(), inplace=True)\n"
          ]
        }
      ],
      "source": [
        "# task1_data_pipeline.py\n",
        "\n",
        "import pandas as pd\n",
        "from sklearn import datasets\n",
        "from sklearn.preprocessing import StandardScaler, LabelEncoder\n",
        "import numpy as np\n",
        "from scipy.stats import zscore\n",
        "\n",
        "# Step 1: Load Dataset (Iris Dataset)\n",
        "iris = datasets.load_iris()\n",
        "data = pd.DataFrame(data=iris.data, columns=iris.feature_names)\n",
        "data['target'] = iris.target\n",
        "data['species'] = iris.target_names[iris.target]\n",
        "\n",
        "print(\"Original Data Head:\")\n",
        "print(data.head())\n",
        "\n",
        "# Step 2: Handle Missing Values (Simulated)\n",
        "data.loc[5:10, 'sepal length (cm)'] = np.nan\n",
        "print(\"\\nMissing values before filling:\")\n",
        "print(data.isnull().sum())\n",
        "\n",
        "data['sepal length (cm)'].fillna(data['sepal length (cm)'].mean(), inplace=True)\n",
        "\n",
        "# Step 3: Outlier Detection (Z-score method)\n",
        "z_scores = np.abs(zscore(data.select_dtypes(include=[np.number])))\n",
        "outliers = (z_scores > 3)\n",
        "print(\"\\nNumber of outliers (Z-score > 3):\")\n",
        "print(outliers.sum())\n",
        "\n",
        "# Step 4: Encode Categorical Data\n",
        "label_encoder = LabelEncoder()\n",
        "data['species_encoded'] = label_encoder.fit_transform(data['species'])\n",
        "\n",
        "# Step 5: Feature Scaling\n",
        "features = ['sepal length (cm)', 'sepal width (cm)', 'petal length (cm)', 'petal width (cm)']\n",
        "scaler = StandardScaler()\n",
        "data_scaled = scaler.fit_transform(data[features])\n",
        "\n",
        "scaled_df = pd.DataFrame(data_scaled, columns=[f\"{col}_scaled\" for col in features])\n",
        "data = pd.concat([data.reset_index(drop=True), scaled_df], axis=1)\n",
        "\n",
        "# Step 6: Save Cleaned Data\n",
        "data.to_csv(\"cleaned_iris_data.csv\", index=False)\n",
        "print(\"\\nCleaned data saved to 'cleaned_iris_data.csv'\")"
      ]
    }
  ]
}